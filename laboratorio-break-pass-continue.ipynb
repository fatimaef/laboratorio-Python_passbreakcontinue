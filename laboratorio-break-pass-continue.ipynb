{
 "cells": [
  {
   "cell_type": "markdown",
   "metadata": {},
   "source": [
    "\n",
    "<div style=\"text-align: center;\">\n",
    "  <img src=\"https://github.com/Hack-io-Data/Imagenes/blob/main/01-LogosHackio/logo_celeste@4x.png?raw=true\" alt=\"esquema\" />\n",
    "</div>\n"
   ]
  },
  {
   "cell_type": "markdown",
   "metadata": {},
   "source": [
    "# Laboratorio de Python: break(), pass(), continue()"
   ]
  },
  {
   "cell_type": "markdown",
   "metadata": {},
   "source": [
    "## Ejercicio 1: Validación de datos numéricos. \n",
    "\n",
    "Escribe un bucle que lea una lista de números y detenga la ejecución si encuentra un valor negativo. Muestra un mensaje indicando el número negativo encontrado.\n"
   ]
  },
  {
   "cell_type": "code",
   "execution_count": 5,
   "metadata": {},
   "outputs": [
    {
     "name": "stdout",
     "output_type": "stream",
     "text": [
      "-9\n"
     ]
    }
   ],
   "source": [
    "numeros = [12, 5, 4, 32, 1, 8, -9, 12, -7]\n",
    "for n in numeros:\n",
    "    if n < 0:\n",
    "        print(n)\n",
    "        break\n",
    "    "
   ]
  },
  {
   "cell_type": "code",
   "execution_count": 7,
   "metadata": {},
   "outputs": [
    {
     "name": "stdout",
     "output_type": "stream",
     "text": [
      "-9\n"
     ]
    }
   ],
   "source": [
    "i = 0\n",
    "while i < len(numeros):\n",
    "    if numeros[i] < 0:\n",
    "        print(n)\n",
    "        break\n",
    "    i += 1              #i = i + 1"
   ]
  },
  {
   "cell_type": "markdown",
   "metadata": {},
   "source": [
    "\n",
    "## Ejercicio 2: Filtrado de datos\n",
    "\n",
    "Escribe un bucle que imprima los números de una lista, pero que omita los números pares.\n"
   ]
  },
  {
   "cell_type": "code",
   "execution_count": 8,
   "metadata": {},
   "outputs": [
    {
     "name": "stdout",
     "output_type": "stream",
     "text": [
      "5\n",
      "1\n",
      "-9\n",
      "-7\n"
     ]
    }
   ],
   "source": [
    "for n in numeros:\n",
    "    if n % 2 == 0: \n",
    "        continue\n",
    "    print(n)"
   ]
  },
  {
   "cell_type": "markdown",
   "metadata": {},
   "source": [
    "## Ejercicio 3: Búsqueda de un valor\n",
    "\n",
    "Escribe un programa que busque un valor específico en una lista y detenga la búsqueda cuando lo encuentre. Si se encuentra, muestra un mensaje.\n"
   ]
  },
  {
   "cell_type": "code",
   "execution_count": 11,
   "metadata": {},
   "outputs": [
    {
     "name": "stdout",
     "output_type": "stream",
     "text": [
      "encontrado\n"
     ]
    }
   ],
   "source": [
    "for n in numeros:\n",
    "    if n == 5:\n",
    "        print(\"encontrado\")\n",
    "        break\n",
    "        "
   ]
  },
  {
   "cell_type": "markdown",
   "metadata": {},
   "source": [
    "## Ejercicio 4: Estructura de código incompleto\n",
    "\n",
    "Define una función que aún no tenga lógica implementada, pero que se pueda ejecutar sin errores utilizando `pass`."
   ]
  },
  {
   "cell_type": "code",
   "execution_count": null,
   "metadata": {},
   "outputs": [],
   "source": [
    "#la palabra clave pass se usa como un marcador de posición cuando no se desea implementar el cuerpo de una función, manteniendo el código libre de errores\n",
    "def ejercicio4():\n",
    "    pass"
   ]
  },
  {
   "cell_type": "markdown",
   "metadata": {},
   "source": [
    "## Ejercicio 5: Validación condicional\n",
    "\n",
    "Escribe un bucle que verifique una lista de nombres. Si encuentra un nombre vacío (cadena vacía), salta esa iteración y continúa con los demás nombres.\n"
   ]
  },
  {
   "cell_type": "code",
   "execution_count": 16,
   "metadata": {},
   "outputs": [
    {
     "name": "stdout",
     "output_type": "stream",
     "text": [
      "fatima\n",
      "pedro\n",
      "jorge\n",
      "maria\n"
     ]
    }
   ],
   "source": [
    "nombres = ['fatima', 'pedro', 'jorge', '', 'maria']\n",
    "for n in nombres:\n",
    "    if n == '':\n",
    "        continue\n",
    "    print(n)"
   ]
  },
  {
   "cell_type": "markdown",
   "metadata": {},
   "source": [
    "## Ejercicio 6: Búsqueda de claves en un diccionario\n",
    "\n",
    "Escribe un programa que recorra un diccionario y detenga la búsqueda si encuentra una clave específica pasada por el usuario.\n"
   ]
  },
  {
   "cell_type": "code",
   "execution_count": 9,
   "metadata": {},
   "outputs": [
    {
     "name": "stdout",
     "output_type": "stream",
     "text": [
      "gato\n"
     ]
    }
   ],
   "source": [
    "#busca una clave específica en un diccionario y detiene la búsqueda al encontrarla. En virtud ello, se recorre el diccionario con un bucle for, que devuelve las claves.\n",
    "d = {'casa':'house', 'perro':'dog', 'gato':'cat', 'coche':'car'}\n",
    "busqueda = 'gato'\n",
    "for x in d:\n",
    "    if x == busqueda:\n",
    "        print(x)\n",
    "        break\n",
    "        "
   ]
  },
  {
   "cell_type": "markdown",
   "metadata": {},
   "source": [
    "## Ejercicio 7: Bucle con múltiples excepciones\n",
    "\n",
    "Escribe un bucle que procese una lista de operaciones matemáticas, omitiendo las operaciones que intenten dividir por cero.\n"
   ]
  },
  {
   "cell_type": "code",
   "execution_count": 5,
   "metadata": {},
   "outputs": [
    {
     "name": "stdout",
     "output_type": "stream",
     "text": [
      "Resultado de 23/4 = 5.75\n",
      "Resultado de 25/5 = 5.0\n",
      "Resultado de 9/3 = 3.0\n",
      "División por cero omitida: 23/0\n",
      "Resultado de 24/2 = 12.0\n"
     ]
    }
   ],
   "source": [
    "operaciones = [(23, 4), (25, 5), (9, 3), (23, 0), (24, 2)]\n",
    "#cada operación esta representada en tuplas \n",
    "#se clasifica su resultado en función del divisor (segundo número =0)\n",
    "#si es cero, se imprime un mensaje y se usa 'continue' para saltar la iteración. Si es distinto de cero, se calcula e imprime\n",
    "operaciones = [(23, 4), (25, 5), (9, 3), (23, 0), (24, 2)]\n",
    "for a, b in operaciones:\n",
    "    if b == 0:\n",
    "        print(f\"División por cero omitida: {a}/{b}\")\n",
    "        continue\n",
    "    print(f\"Resultado de {a}/{b} = {a / b}\")\n"
   ]
  },
  {
   "cell_type": "markdown",
   "metadata": {},
   "source": [
    "## Ejercicio 8: Búsqueda en una lista anidada\n",
    "\n",
    "Escribe un programa que recorra una lista de listas y detenga la búsqueda cuando encuentre un valor mayor a 50.\n"
   ]
  },
  {
   "cell_type": "code",
   "execution_count": null,
   "metadata": {},
   "outputs": [
    {
     "name": "stdout",
     "output_type": "stream",
     "text": [
      "Valor encontrado: [60, 80, 100]\n",
      "Valor encontrado: [30, 60, 90]\n"
     ]
    }
   ],
   "source": [
    "listas_encadenadas = [[10, 20, 30], [60, 80, 100], [30, 60, 90]]\n",
    "#recorrido de las listas anidadas en dos bucles\n",
    "for sublista in listas_encadenadas:\n",
    "    for numero in sublista:\n",
    "        if numero > 50:\n",
    "            print(f\"Valor encontrado: {sublista}\")\n",
    "            break\n"
   ]
  },
  {
   "cell_type": "markdown",
   "metadata": {},
   "source": [
    "## Ejercicio 9: Evaluación de series temporales\n",
    "\n",
    "Escribe un programa que recorra una lista de datos de series temporales y se detenga si encuentra un valor atípico (mayor a 100).\n"
   ]
  },
  {
   "cell_type": "code",
   "execution_count": 8,
   "metadata": {},
   "outputs": [
    {
     "name": "stdout",
     "output_type": "stream",
     "text": [
      "Valor atípico encontrado: 101\n"
     ]
    }
   ],
   "source": [
    "#El bucle se interrumpe si el valor es mayor a 100\n",
    "series_temporales = [30, 45, 85, 101, 60, 78]\n",
    "for valor in series_temporales:\n",
    "    if valor > 100:\n",
    "        print(f\"Valor atípico encontrado: {valor}\")\n",
    "        break\n"
   ]
  },
  {
   "cell_type": "markdown",
   "metadata": {},
   "source": [
    "## Ejercicio 10: Iteración con valores faltantes\n",
    "\n",
    "Crea un bucle que recorra una lista de datos de ventas y salte los valores faltantes representados por `None`."
   ]
  },
  {
   "cell_type": "code",
   "execution_count": null,
   "metadata": {},
   "outputs": [
    {
     "name": "stdout",
     "output_type": "stream",
     "text": [
      "Venta procesada: 120\n",
      "Venta procesada: 250\n",
      "Venta procesada: 300\n",
      "Venta procesada: 400\n"
     ]
    }
   ],
   "source": [
    "#generamos una lista (ventas) que contiene valores none\n",
    "#pedimos hacer un recorrido por todos los valores de la lista omitiendo / saltando (= cotinue) los None y printeando solo los datos representados\n",
    "ventas = [120, None, 250, 300, None, 400]\n",
    "for venta in ventas:\n",
    "    if venta is None:ventas = [120, None, 250, 300, None, 400]\n",
    "for venta in ventas:\n",
    "    if venta is None:\n",
    "        continue\n",
    "    print(f\"Venta procesada: {venta}\")\n",
    "\n"
   ]
  },
  {
   "cell_type": "markdown",
   "metadata": {},
   "source": [
    "## Ejercicio 11: Control de flujo en bucles anidados\n",
    "\n",
    "Escribe un bucle que recorra la matriz dada y se detenga si se encuentra un número negativo, mostrando su posición.\n",
    "\n"
   ]
  },
  {
   "cell_type": "code",
   "execution_count": 6,
   "metadata": {},
   "outputs": [
    {
     "name": "stdout",
     "output_type": "stream",
     "text": [
      "Número negativo encontrado: -5 en posición (1, 0)\n"
     ]
    }
   ],
   "source": [
    "matriz = [[10, 20, 30], [-5, 60, 70], [80, 90, 100]]\n",
    "for i, fila in enumerate(matriz):\n",
    "    for j, valor in enumerate(fila):\n",
    "        if valor < 0:\n",
    "            print(f\"Número negativo encontrado: {valor} en posición ({i}, {j})\")\n",
    "            break\n"
   ]
  },
  {
   "cell_type": "markdown",
   "metadata": {},
   "source": [
    "## Ejercicio 12: Placeholder para funciones incompletas\n",
    "\n",
    "Escribe una función que tenga un bloque de control que aún no esté implementado, utilizando `pass` para que no genere errores."
   ]
  },
  {
   "cell_type": "code",
   "execution_count": 7,
   "metadata": {},
   "outputs": [],
   "source": [
    "def placeholder_func():\n",
    "    pass\n"
   ]
  }
 ],
 "metadata": {
  "kernelspec": {
   "display_name": "Python 3",
   "language": "python",
   "name": "python3"
  },
  "language_info": {
   "codemirror_mode": {
    "name": "ipython",
    "version": 3
   },
   "file_extension": ".py",
   "mimetype": "text/x-python",
   "name": "python",
   "nbconvert_exporter": "python",
   "pygments_lexer": "ipython3",
   "version": "3.12.7"
  }
 },
 "nbformat": 4,
 "nbformat_minor": 4
}
